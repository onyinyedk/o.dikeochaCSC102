{
 "cells": [
  {
   "cell_type": "code",
   "execution_count": 1,
   "id": "2234f33d",
   "metadata": {},
   "outputs": [
    {
     "name": "stdout",
     "output_type": "stream",
     "text": [
      "I'm first call to user defined function!\n",
      "Again second call to same function\n"
     ]
    }
   ],
   "source": [
    "def printme(str):\n",
    "    #This is a print function\n",
    "    print (str);\n",
    "    return;\n",
    "\n",
    "printme(\"I'm first call to user defined function!\");\n",
    "printme(\"Again second call to same function\");"
   ]
  },
  {
   "cell_type": "code",
   "execution_count": 3,
   "id": "45b49ad2",
   "metadata": {},
   "outputs": [
    {
     "name": "stdout",
     "output_type": "stream",
     "text": [
      "values inside the function:  [10, 20, 30, [1, 2, 3, 4]]\n",
      "Values ouside the function:  [10, 20, 30, [1, 2, 3, 4]]\n"
     ]
    }
   ],
   "source": [
    "def changeme(mylist):\n",
    "    #This changes a passed list\n",
    "    mylist.append([1,2,3,4])\n",
    "    print (\"values inside the function: \", mylist)\n",
    "    return\n",
    "mylist = [10,20,30]\n",
    "changeme(mylist)\n",
    "print (\"Values ouside the function: \",mylist)"
   ]
  },
  {
   "cell_type": "code",
   "execution_count": 2,
   "id": "4bb1e675",
   "metadata": {},
   "outputs": [
    {
     "name": "stdout",
     "output_type": "stream",
     "text": [
      "Values inside the function:  [1, 2, 3, 4]\n",
      "Values outside the function:  [10, 20, 30]\n"
     ]
    }
   ],
   "source": [
    "def changeme(mylist):\n",
    "    #This changes a passed list\n",
    "    mylist = [ 1,2,3,4];\n",
    "    print(\"Values inside the function: \", mylist)\n",
    "    return\n",
    "mylist = [ 10,20,30];\n",
    "changeme(mylist);\n",
    "print (\"Values outside the function: \", mylist)"
   ]
  },
  {
   "cell_type": "code",
   "execution_count": 5,
   "id": "c9b3eb59",
   "metadata": {},
   "outputs": [
    {
     "name": "stdout",
     "output_type": "stream",
     "text": [
      "My string\n"
     ]
    }
   ],
   "source": [
    "def printme (str):\n",
    "    #this prints a passed string\n",
    "    print(str);\n",
    "    return\n",
    "printme( str = \"My string\");\n"
   ]
  },
  {
   "cell_type": "code",
   "execution_count": 11,
   "id": "41954cb7",
   "metadata": {},
   "outputs": [
    {
     "name": "stdout",
     "output_type": "stream",
     "text": [
      "Name:  miki\n",
      "Age:  50\n"
     ]
    }
   ],
   "source": [
    "def printinfo( name, age):\n",
    "    #Test function\n",
    "    print (\"Name: \",name);\n",
    "    print (\"Age: \",age);\n",
    "    return\n",
    "printinfo(age=50, name=\"miki\");\n",
    "\n",
    "        \n",
    " \n"
   ]
  },
  {
   "cell_type": "code",
   "execution_count": 32,
   "id": "d497f79c",
   "metadata": {},
   "outputs": [
    {
     "name": "stdout",
     "output_type": "stream",
     "text": [
      "Output is: \n",
      "10\n",
      "Output is: \n",
      "70\n",
      "60\n"
     ]
    }
   ],
   "source": [
    "def printinfo( arg1, *vartuple ):\n",
    "    #This is test\n",
    "    print (\"Output is: \")\n",
    "    print (arg1)\n",
    "    for var in vartuple:\n",
    "        print (var)\n",
    "        return; \n",
    "printinfo( 10 );\n",
    "printinfo( 70, 60, 50 );\n",
    "    "
   ]
  },
  {
   "cell_type": "code",
   "execution_count": 31,
   "id": "e5b6cc15",
   "metadata": {},
   "outputs": [
    {
     "name": "stdout",
     "output_type": "stream",
     "text": [
      "Inside the function local Total :  30\n",
      "Outside the function global total :  50\n"
     ]
    }
   ],
   "source": [
    "total = 50; #This is global variable.\n",
    "def sum ( arg1, arg2 ):\n",
    "    #Add both the parameters\n",
    "    total = arg1 + arg2;\n",
    "    print (\"Inside the function local Total : \", total)\n",
    "    return total;\n",
    "#Now you can call sum function\n",
    "sum( 10, 20);\n",
    "print (\"Outside the function global total : \", total)"
   ]
  },
  {
   "cell_type": "code",
   "execution_count": 25,
   "id": "d0dfeae5",
   "metadata": {},
   "outputs": [
    {
     "name": "stdout",
     "output_type": "stream",
     "text": [
      "Lawal Edward Tolu Tina\n",
      "Mary\n"
     ]
    }
   ],
   "source": [
    "def swap(x, y):\n",
    "    global a\n",
    "    a = \"Lawal\"\n",
    "    x,y = y,x\n",
    "    b = \"Chris\"\n",
    "    b = \"Edward\"\n",
    "    c = \"Lola\"\n",
    "    print(a,b,x,y)\n",
    "    a = \"Mary\"\n",
    "swap(\"Tina\",\"Tolu\")\n",
    "print(a)"
   ]
  },
  {
   "cell_type": "code",
   "execution_count": null,
   "id": "57505a07",
   "metadata": {},
   "outputs": [],
   "source": []
  },
  {
   "cell_type": "code",
   "execution_count": null,
   "id": "bb70b5a5",
   "metadata": {},
   "outputs": [],
   "source": []
  }
 ],
 "metadata": {
  "kernelspec": {
   "display_name": "Python 3 (ipykernel)",
   "language": "python",
   "name": "python3"
  },
  "language_info": {
   "codemirror_mode": {
    "name": "ipython",
    "version": 3
   },
   "file_extension": ".py",
   "mimetype": "text/x-python",
   "name": "python",
   "nbconvert_exporter": "python",
   "pygments_lexer": "ipython3",
   "version": "3.10.9"
  }
 },
 "nbformat": 4,
 "nbformat_minor": 5
}
