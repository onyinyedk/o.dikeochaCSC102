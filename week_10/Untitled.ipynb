{
 "cells": [
  {
   "cell_type": "code",
   "execution_count": 17,
   "id": "bd8c7b0b",
   "metadata": {},
   "outputs": [
    {
     "name": "stdout",
     "output_type": "stream",
     "text": [
      "Welcome to my orange selling business\n",
      "Enter the number of oranges you want to buy: 1000\n",
      "This amount is more than the amount of oranges I have in stock\n"
     ]
    }
   ],
   "source": [
    "class orange():\n",
    "    def cost(self):\n",
    "        print(\"The cost of each orange is $800\")\n",
    "        print(\"The total price is:$ \",total_price)\n",
    "        \n",
    "Business = orange()\n",
    "print(\"Welcome to my orange selling business\")\n",
    "number = int(input(\"Enter the number of oranges you want to buy: \"))\n",
    "total_price = number*800\n",
    "if number >= 1000:\n",
    "    print(\"This amount is more than the amount of oranges I have in stock\")\n",
    "elif number < 1000:\n",
    "    Business.cost()\n",
    "else:\n",
    "    print(\"Please repeat the process correctly\")"
   ]
  },
  {
   "cell_type": "code",
   "execution_count": 6,
   "id": "3d24d955",
   "metadata": {},
   "outputs": [
    {
     "name": "stdout",
     "output_type": "stream",
     "text": [
      "Welcome Mr Desmond\n",
      "Pick the formula you wish to calculate below \n",
      "1 - Area of Trapezium\n",
      "2 - Area of Rhombus \n",
      "3 - Area of Parallelogram \n",
      "4 - Area of Cube \n",
      "5 - Volume of Cylinder \n",
      "Enter the numberof the number of the formula you want: 2\n",
      "Enter first diagonal: 12\n",
      "Enter second diagonal: 13\n",
      "Area of Rhombus = 1/2*diagonal1*diagonal2\n",
      "The Area of the rhombus is  78.0\n"
     ]
    }
   ],
   "source": [
    "class Formula():\n",
    "    def AOT(self):\n",
    "        height = int(input(\"Enter height: \"))\n",
    "        base1 = int(input(\"Enter first base: \"))\n",
    "        base2 = int(input(\"Enter second base: \"))\n",
    "        \n",
    "        print(\"Area of Trapezium = height/2*(base1 + base2)\")\n",
    "        solu = height/2*(base1 + base2)\n",
    "        print(\"Area of trapezium = \",solu)\n",
    "        \n",
    "    def AOR(self):\n",
    "        diagonal1 = int(input(\"Enter first diagonal: \"))\n",
    "        diagonal2 = int(input(\"Enter second diagonal: \"))\n",
    "        \n",
    "        print(\"Area of Rhombus = 1/2*diagonal1*diagonal2\")\n",
    "        formula = 1/2*diagonal1*diagonal2\n",
    "        print(\"The Area of the rhombus is \",formula)\n",
    "        \n",
    "    def AOP(self):\n",
    "        base = int(input(\"Enter base: \"))\n",
    "        altitude = int(input(\"Enter altitude: \"))\n",
    "        area = base*altitude\n",
    "        print(\"Area of Parallelogram is: \",area)\n",
    "        \n",
    "    def AOC(self):\n",
    "        los = int(input(\"Enter length of side: \"))\n",
    "        A = 6*(los^2)\n",
    "        print(\"Area of Cube is: \",A)\n",
    "        \n",
    "    def VOC(self):\n",
    "        radius = int(input(\"Enter your radius: \"))\n",
    "        height = int(input(\"Enter the height: \"))\n",
    "        pi = 22/7\n",
    "        \n",
    "        F =  pi*(radius^2)*height\n",
    "        print(\"Volume of cylinder = \",F)\n",
    "    \n",
    "Area = Formula()\n",
    "print(\"Welcome Mr Desmond\")\n",
    "print(\"Pick the formula you wish to calculate below \\n1 - Area of Trapezium\\n2 - Area of Rhombus \\n3 - Area of Parallelogram \\n4 - Area of Cube \\n5 - Volume of Cylinder \")\n",
    "      \n",
    "no = int(input(\"Enter the numberof the number of the formula you want: \"))\n",
    "      \n",
    "if no == 1:\n",
    "      Area.AOT()\n",
    "elif no == 2:\n",
    "      Area.AOR()\n",
    "elif no == 3:\n",
    "      Area.AOP()\n",
    "elif no == 4:\n",
    "      Area.AOC()\n",
    "elif no == 5:\n",
    "      Area.VOC()\n",
    "else:\n",
    "      print(\"Wrong program request\")"
   ]
  },
  {
   "cell_type": "code",
   "execution_count": 15,
   "id": "191cd5c4",
   "metadata": {},
   "outputs": [],
   "source": [
    "import pandas as pd\n",
    "\n",
    "class Business():\n",
    "    def table(self,file):\n",
    "        df = pd.DataFrame(file)\n",
    "        df.to_csv('file.csv')\n",
    "        \n",
    "file = {'Lager':['33 Export','Desperados','Goldberg','Gulder','Heineken','Star'],\n",
    "        'Stout':['Legend','Turbo King','Williams','','',''],\n",
    "        'Non-Alcoholic':['Maltina','Amsel Malta','Malta Gold','Fayrouz','','']}\n",
    "T = Business()\n",
    "T.table(file)"
   ]
  },
  {
   "cell_type": "code",
   "execution_count": null,
   "id": "43587e1a",
   "metadata": {},
   "outputs": [],
   "source": []
  }
 ],
 "metadata": {
  "kernelspec": {
   "display_name": "Python 3 (ipykernel)",
   "language": "python",
   "name": "python3"
  },
  "language_info": {
   "codemirror_mode": {
    "name": "ipython",
    "version": 3
   },
   "file_extension": ".py",
   "mimetype": "text/x-python",
   "name": "python",
   "nbconvert_exporter": "python",
   "pygments_lexer": "ipython3",
   "version": "3.10.9"
  }
 },
 "nbformat": 4,
 "nbformat_minor": 5
}
