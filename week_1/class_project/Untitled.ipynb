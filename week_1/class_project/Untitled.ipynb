{
 "cells": [
  {
   "cell_type": "code",
   "execution_count": 7,
   "id": "1533095f",
   "metadata": {},
   "outputs": [
    {
     "name": "stdout",
     "output_type": "stream",
     "text": [
      "What is the value of the principal amount, P? 200\n",
      "What is the value of the rate, R? 4\n",
      "What is the value of the time, T? 4\n",
      "The simple interest is 231.99999999999997.\n"
     ]
    }
   ],
   "source": [
    "#Formula for simple interest\n",
    "num1 = int(input(\"What is the value of the principal amount, P? \"))\n",
    "num2 = int(input(\"What is the value of the rate, R? \"))\n",
    "num3 = int(input(\"What is the value of the time, T? \"))\n",
    "simple_interest = num1 * (1 + ( (num2/100) * num3))\n",
    "simple_interest = str(simple_interest)\n",
    "print(\"The simple interest is \" + simple_interest + \".\")"
   ]
  },
  {
   "cell_type": "code",
   "execution_count": 8,
   "id": "907930de",
   "metadata": {},
   "outputs": [
    {
     "name": "stdout",
     "output_type": "stream",
     "text": [
      "What is the value of the principal amount, P? 39\n",
      "What is the rate of compound interest per annum, R? 2\n",
      "What is the value of time, t? 4\n",
      "What is the value of the compounding time, n? 40\n",
      "The compound interest is 95797.12118426239.\n"
     ]
    }
   ],
   "source": [
    "#Formula for compound interest\n",
    "num1 = int(input(\"What is the value of the principal amount, P? \"))\n",
    "num2 = int(input(\"What is the rate of compound interest per annum, R? \"))\n",
    "num3 = int(input(\"What is the value of time, t? \"))\n",
    "num4 = int(input(\"What is the value of the compounding time, n? \"))\n",
    "compound_interest = num1 * (1 + (num2/num4)) ** (num3 * num4)\n",
    "compound_interest = str(compound_interest)\n",
    "print(\"The compound interest is \" + compound_interest + \".\")"
   ]
  },
  {
   "cell_type": "code",
   "execution_count": 9,
   "id": "4bf5975f",
   "metadata": {},
   "outputs": [
    {
     "name": "stdout",
     "output_type": "stream",
     "text": [
      "What is the value of the payment per period, PMT? 30000\n",
      "What is the value of rate, R? 4\n",
      "What is the value of the number of payment, n? 2\n",
      "What is the value of the time period, t? 12\n",
      "The annuity plan is 1059110761800000.0.\n"
     ]
    }
   ],
   "source": [
    "#Formula for annuity plan\n",
    "num1 = int(input(\"What is the value of the payment per period, PMT? \"))\n",
    "num2 = int(input(\"What is the value of rate, R? \"))\n",
    "num3 = int(input(\"What is the value of the number of payment, n? \"))\n",
    "num4 = int(input(\"What is the value of the time period, t? \"))   \n",
    "annuity_plan = num1 * ((1 + num2/num3) ** (num3 * num4) - 1) / num2/num3\n",
    "annuity_plan = str(annuity_plan)\n",
    "print(\"The annuity plan is \" + annuity_plan + \".\")\n",
    "           "
   ]
  },
  {
   "cell_type": "code",
   "execution_count": null,
   "id": "3c9ac2c2",
   "metadata": {},
   "outputs": [],
   "source": []
  }
 ],
 "metadata": {
  "kernelspec": {
   "display_name": "Python 3 (ipykernel)",
   "language": "python",
   "name": "python3"
  },
  "language_info": {
   "codemirror_mode": {
    "name": "ipython",
    "version": 3
   },
   "file_extension": ".py",
   "mimetype": "text/x-python",
   "name": "python",
   "nbconvert_exporter": "python",
   "pygments_lexer": "ipython3",
   "version": "3.10.9"
  }
 },
 "nbformat": 4,
 "nbformat_minor": 5
}
