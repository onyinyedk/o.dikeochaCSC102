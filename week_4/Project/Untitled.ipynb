{
 "cells": [
  {
   "cell_type": "code",
   "execution_count": 2,
   "id": "93db0bc1",
   "metadata": {},
   "outputs": [
    {
     "ename": "SyntaxError",
     "evalue": "invalid syntax (398177678.py, line 12)",
     "output_type": "error",
     "traceback": [
      "\u001b[1;36m  Cell \u001b[1;32mIn[2], line 12\u001b[1;36m\u001b[0m\n\u001b[1;33m    age = ['17', '16', '17', '18'. '16', '18', '17']\u001b[0m\n\u001b[1;37m                                   ^\u001b[0m\n\u001b[1;31mSyntaxError\u001b[0m\u001b[1;31m:\u001b[0m invalid syntax\n"
     ]
    }
   ],
   "source": [
    "print(\"The following students\")\n",
    "girls = ['Samantha',\n",
    "         'Jada', \n",
    "         'Jane', \n",
    "         'Claire',\n",
    "         'Elizabeth',\n",
    "         'Mary', \n",
    "         'Susan',\n",
    "         'Waje', \n",
    "         'Taibat', \n",
    "         'Lilian']\n",
    "age = ['17', '16', '17', '18'. '16', '18', '17']\n",
    "height = ['5.5', '6.0', '5.4', '5.9', '5.6', '5.5', '6.1', '6.0', '5.7', '5.5']\n",
    "scores = ['80', '85', '70', '60', '76', '66', '87', '95', '50', '49']\n",
    "\n",
    "print(\"Information for girls\")\n",
    "print(     \"Name|Age|Height|Score\")\n",
    "\n",
    "for i in range(len(Name)):\n",
    "      print(Name[i] ,\"|\", Age[i], \"|\", Height[i], \"|\", Score[i])\n",
    "print(\"These are the Details of the Boys\")\n",
    "print(\"    Name|Age|Height|Score\")\n",
    "            \n",
    "for i in range(len(Name)):\n",
    "    print(Name[i] ,\"|\", Age[i], \"\", Height[i], \"|\", Score[i])\n",
    "print(\"Information for boys\")\n",
    "print(\"   Name|Age|Height|Score\")\n",
    "\n",
    "boys = ['charles',\n",
    "        'jude', \n",
    "        'james',\n",
    "        'kelvin',\n",
    "        'biodun',\n",
    "        'wale', \n",
    "        'kunle', \n",
    "        'matthew', \n",
    "        'tom',\n",
    "        'kayode']\n",
    "\n",
    "age - ['19', '16', '18', '17', '20', '19', '16', '18', '17', '19']\n",
    "height - ['5.7', '5.9', '5.8', '6.1', '5.9', '5.5', '6.1', '5.4', '5.8', '5.7']\n",
    "score = ['74', '87', '75', '68', '66', '78', '87', '98', '54', '60']\n",
    "\n",
    "for i in range(len(Name)):\n",
    "    print(Name[i] ,\"|\", Age[i], \"|\", Height[i],\"|\", Score[i])\n",
    "    \n",
    "The student information \n",
    "These are the girls details\n",
    "     Name|Age|Height|Score"
   ]
  },
  {
   "cell_type": "code",
   "execution_count": null,
   "id": "560e64d4",
   "metadata": {},
   "outputs": [],
   "source": []
  }
 ],
 "metadata": {
  "kernelspec": {
   "display_name": "Python 3 (ipykernel)",
   "language": "python",
   "name": "python3"
  },
  "language_info": {
   "codemirror_mode": {
    "name": "ipython",
    "version": 3
   },
   "file_extension": ".py",
   "mimetype": "text/x-python",
   "name": "python",
   "nbconvert_exporter": "python",
   "pygments_lexer": "ipython3",
   "version": "3.10.9"
  }
 },
 "nbformat": 4,
 "nbformat_minor": 5
}
