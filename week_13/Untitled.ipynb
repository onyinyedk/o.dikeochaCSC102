{
 "cells": [
  {
   "cell_type": "code",
   "execution_count": 8,
   "id": "50aa82a1",
   "metadata": {},
   "outputs": [
    {
     "ename": "IndentationError",
     "evalue": "expected an indented block after function definition on line 7 (2113058457.py, line 8)",
     "output_type": "error",
     "traceback": [
      "\u001b[1;36m  Cell \u001b[1;32mIn[8], line 8\u001b[1;36m\u001b[0m\n\u001b[1;33m    self.name = name\u001b[0m\n\u001b[1;37m    ^\u001b[0m\n\u001b[1;31mIndentationError\u001b[0m\u001b[1;31m:\u001b[0m expected an indented block after function definition on line 7\n"
     ]
    }
   ],
   "source": [
    "import pandas as pd\n",
    " \n",
    "student_assesment = []\n",
    "namefile = \"PAU_SIMS.csv\"\n",
    "    \n",
    "class SIMS():\n",
    " def __init_(self, name, matric, department, level):\n",
    "  self.name = name\n",
    "  self.matric = matric\n",
    "  self.department = department\n",
    "  self.level = level\n",
    "            \n",
    "        def create_file(self):\n",
    "                       data = {\"Student Name\": self.name, \"Matric. No\": self.matric, \"Department\": self.depert}\n",
    "                       student_info.append(data)\n",
    "                       df = pd.DataFrame(student_info)\n",
    "                       df.to_csv(filename)\n",
    "                       print(df)\n",
    "        \n",
    "                               \n",
    "number_of_students = int(input(\"\"))\n",
    "                               \n",
    "            for i in range(number_of_students):\n",
    "            Department_name = input(\"Please input the name of your department\")\n",
    "            Name = input(\"Please input your name\")\n",
    "            Matric = input(\"Please input your matric number\")   \n",
    "            Level = input(\"Please input your class\")\n",
    "            obj = SMIS(name,matric,department,level)\n",
    "            obj.create_file()                            \n",
    "                               \n",
    "                               \n",
    "            "
   ]
  },
  {
   "cell_type": "code",
   "execution_count": 10,
   "id": "6d4706f4",
   "metadata": {},
   "outputs": [
    {
     "ename": "SyntaxError",
     "evalue": "cannot assign to attribute here. Maybe you meant '==' instead of '='? (4254169772.py, line 15)",
     "output_type": "error",
     "traceback": [
      "\u001b[1;36m  Cell \u001b[1;32mIn[10], line 15\u001b[1;36m\u001b[0m\n\u001b[1;33m    self.leverage = (self.asset = self.liability)/self.asset\u001b[0m\n\u001b[1;37m                     ^\u001b[0m\n\u001b[1;31mSyntaxError\u001b[0m\u001b[1;31m:\u001b[0m cannot assign to attribute here. Maybe you meant '==' instead of '='?\n"
     ]
    }
   ],
   "source": [
    "import pandas as pd\n",
    "\n",
    "companies_f = []\n",
    "filename = \"Companies.csv\"\n",
    "\n",
    "class Economy():\n",
    "    def __init__(self, company, date, asset, liability):\n",
    "        self.company = company\n",
    "        self.asset = asset\n",
    "        self.date = date\n",
    "        self.liability = liability\n",
    "        leverage = 0 \n",
    "        \n",
    "    def leverage(self):\n",
    "        self.leverage = (self.asset = self.liability)/self.asset\n",
    "        self.leverage = self.leverage * 100\n",
    "        \n",
    "    def file(self):\n",
    "        companies = {\"Company\": self.company, \"Data of Origin\": self.date, \"Company's Shares\": self.i}\n",
    "        companies_f.append(companies)\n",
    "        \n",
    "        df = pd.DataFrame(companies_f)\n",
    "        df.to_csv(filename)\n",
    "        print(df)\n",
    "        \n",
    "company = [\"Enron\", \"Anderson\", \"Gk Jones\", \"Mica\", \"Dune\"]\n",
    "date = [1987, 1916, 2001, 1996, 2008]\n",
    "assets = [1000000, 1500000, 3000000, 250000, 90000]\n",
    "liabilities = [20000, 50000, 250000, 50000, 300000]\n",
    "\n",
    "for asset, liability,company, date in zip(company, date, assets, liabilities):\n",
    "    obj = Economy(company, date, asset, liability)\n",
    "    obj.leverage_calc()\n",
    "    obj.create_file()"
   ]
  },
  {
   "cell_type": "code",
   "execution_count": null,
   "id": "c0e4bb47",
   "metadata": {},
   "outputs": [],
   "source": []
  },
  {
   "cell_type": "code",
   "execution_count": null,
   "id": "0504c20b",
   "metadata": {},
   "outputs": [],
   "source": []
  }
 ],
 "metadata": {
  "kernelspec": {
   "display_name": "Python 3 (ipykernel)",
   "language": "python",
   "name": "python3"
  },
  "language_info": {
   "codemirror_mode": {
    "name": "ipython",
    "version": 3
   },
   "file_extension": ".py",
   "mimetype": "text/x-python",
   "name": "python",
   "nbconvert_exporter": "python",
   "pygments_lexer": "ipython3",
   "version": "3.10.9"
  }
 },
 "nbformat": 4,
 "nbformat_minor": 5
}
