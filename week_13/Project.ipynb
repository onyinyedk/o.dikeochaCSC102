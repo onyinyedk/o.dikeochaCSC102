{
 "cells": [
  {
   "cell_type": "code",
   "execution_count": null,
   "id": "0054a046",
   "metadata": {},
   "outputs": [
    {
     "name": "stdout",
     "output_type": "stream",
     "text": [
      "welcome to PAU SMIS\n",
      "Good day \n",
      "Please fill in all the parameters below:\n"
     ]
    }
   ],
   "source": [
    "import pandas as pd\n",
    "print('welcome to PAU SMIS')\n",
    "print(\"Good day \")\n",
    "print('Please fill in all the parameters below:')\n",
    "inputs = []\n",
    "\n",
    "while True:\n",
    "    name = input('Enter your name: ')\n",
    "    no = int(input('Enter your matriculation number: '))\n",
    "    dpt = input('Enter your department: ')\n",
    "    lvl = input('Enter your level: ')\n",
    "    inputs.append((name, no, dpt, lvl))\n",
    "    \n",
    "    choice = input('Do you want to input more students? (Y/N): ')\n",
    "    if choice.lower() != 'y':\n",
    "        break\n",
    "        \n",
    "df = pd.DataFrame(inputs, columns=['Name', 'Matriculation Number', 'Department', 'Level'])\n",
    "df\n",
    "df.to_csv('PAU SMIS.csv', index=False)    \n",
    "\n",
    "\n"
   ]
  },
  {
   "cell_type": "code",
   "execution_count": 30,
   "id": "ee234fb6",
   "metadata": {},
   "outputs": [],
   "source": [
    "import pandas as pd\n",
    "class Bankrupt():\n",
    "    def calc(self,assets,liabilities):\n",
    "        a = ((assets - liabilities)/assets)*100\n",
    "        return a\n",
    "    \n",
    "    def calc2(self,assets,liabilities):\n",
    "        b = ((assets - liabilities)/assets)*100\n",
    "        return b\n",
    "    \n",
    "    def calc3(self,assets,liabilities):\n",
    "        c = ((assets - liabilities)/assets)*100\n",
    "        return c\n",
    "    \n",
    "    def calc4(self,assets,liabilities):\n",
    "        d = ((assets - liabilities)/assets)*100\n",
    "        return d\n",
    "    \n",
    "    def calc5(self,assets,liabilities):\n",
    "        e = ((assets - liabilities)/assets)*100\n",
    "        return e\n",
    "Industries = Bankrupt()\n",
    "\n",
    "ab = {'Company':['Enron','Anderson','GK Jones','Mica','Dune'],\n",
    "      'Companys shares':[1000000,1500000,3000000,250000,800000],\n",
    "      'Companys Liabilities':[200000,500000,1500000,50000,300000],\n",
    "      'Companys Founding Date':[1987,1936,2001,1996,2008],\n",
    "      'Percentage Leverage':[Industries.calc(1000000,200000),Industries.calc2(1500000,500000),Industries.calc3(3000000,1500000),Industries.calc4(250000,50000),Industries.calc5(800000,300000)]\n",
    "       }\n",
    "df = pd.DataFrame(ab)\n",
    "df.to_csv('Bankrupt Industries.csv')\n"
   ]
  },
  {
   "cell_type": "code",
   "execution_count": null,
   "id": "275aa57e",
   "metadata": {},
   "outputs": [],
   "source": [
    "leverage= assets-liabilities/assets"
   ]
  }
 ],
 "metadata": {
  "kernelspec": {
   "display_name": "Python 3 (ipykernel)",
   "language": "python",
   "name": "python3"
  },
  "language_info": {
   "codemirror_mode": {
    "name": "ipython",
    "version": 3
   },
   "file_extension": ".py",
   "mimetype": "text/x-python",
   "name": "python",
   "nbconvert_exporter": "python",
   "pygments_lexer": "ipython3",
   "version": "3.10.9"
  }
 },
 "nbformat": 4,
 "nbformat_minor": 5
}
